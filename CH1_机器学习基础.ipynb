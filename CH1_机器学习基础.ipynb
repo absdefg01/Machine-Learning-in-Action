{
 "cells": [
  {
   "cell_type": "code",
   "execution_count": 8,
   "metadata": {
    "collapsed": true
   },
   "outputs": [],
   "source": [
    "# 加载numpy包\n",
    "from numpy import *"
   ]
  },
  {
   "cell_type": "code",
   "execution_count": 10,
   "metadata": {},
   "outputs": [
    {
     "data": {
      "text/plain": [
       "array([[0.87265983, 0.6030731 , 0.28037338, 0.00612305],\n",
       "       [0.50537515, 0.72621643, 0.0555965 , 0.62197328],\n",
       "       [0.71163856, 0.87279559, 0.31835076, 0.64682403],\n",
       "       [0.18241354, 0.85533783, 0.60273858, 0.57536832]])"
      ]
     },
     "execution_count": 10,
     "metadata": {},
     "output_type": "execute_result"
    }
   ],
   "source": [
    "# 建立4 * 4 的随机数组\n",
    "random.rand(4,4)"
   ]
  },
  {
   "cell_type": "code",
   "execution_count": 13,
   "metadata": {},
   "outputs": [
    {
     "data": {
      "text/plain": [
       "matrix([[0.71647154, 0.08096044, 0.86774614, 0.92962049],\n",
       "        [0.83575431, 0.69311242, 0.54278986, 0.29398925],\n",
       "        [0.94707637, 0.9608886 , 0.46597507, 0.12273448],\n",
       "        [0.15488375, 0.44665553, 0.33903483, 0.20063242]])"
      ]
     },
     "execution_count": 13,
     "metadata": {},
     "output_type": "execute_result"
    }
   ],
   "source": [
    "# 把数组转换为矩阵形式\n",
    "randomMat = mat(random.rand(4,4))\n",
    "randomMat"
   ]
  },
  {
   "cell_type": "code",
   "execution_count": 15,
   "metadata": {},
   "outputs": [
    {
     "data": {
      "text/plain": [
       "matrix([[  0.59927696,  -0.84930979,   1.78072833,  -2.62155518],\n",
       "        [  3.27317465, -16.58568103,  11.85133659,   1.8872029 ],\n",
       "        [-10.68004137,  46.90745309, -33.51978978,   1.25668758],\n",
       "        [ 10.29796796, -41.68633435,  28.8841926 ,   0.68306918]])"
      ]
     },
     "execution_count": 15,
     "metadata": {},
     "output_type": "execute_result"
    }
   ],
   "source": [
    "# 求randomMat的逆矩阵\n",
    "invRandMat = randomMat.I\n",
    "invRandMat"
   ]
  },
  {
   "cell_type": "code",
   "execution_count": 16,
   "metadata": {},
   "outputs": [
    {
     "data": {
      "text/plain": [
       "matrix([[ 1.00000000e+00,  7.54951657e-15,  1.77635684e-15,\n",
       "          2.22044605e-16],\n",
       "        [ 4.44089210e-16,  1.00000000e+00,  1.77635684e-15,\n",
       "          0.00000000e+00],\n",
       "        [ 0.00000000e+00,  0.00000000e+00,  1.00000000e+00,\n",
       "          1.11022302e-16],\n",
       "        [-2.22044605e-16, -2.66453526e-15,  1.77635684e-15,\n",
       "          1.00000000e+00]])"
      ]
     },
     "execution_count": 16,
     "metadata": {},
     "output_type": "execute_result"
    }
   ],
   "source": [
    "# 计算矩阵与其逆矩阵的乘积\n",
    "randomMat * invRandMat"
   ]
  },
  {
   "cell_type": "markdown",
   "metadata": {},
   "source": [
    "正常来说，矩阵与逆矩阵的乘积应为对角线为1的矩阵，其他地方为0，但上面的结果呈现的矩阵其他地方值不为0且值非常小，这是电脑处理误差产生的结果。"
   ]
  },
  {
   "cell_type": "code",
   "execution_count": 17,
   "metadata": {},
   "outputs": [
    {
     "data": {
      "text/plain": [
       "matrix([[-1.22124533e-15,  7.54951657e-15,  1.77635684e-15,\n",
       "          2.22044605e-16],\n",
       "        [ 4.44089210e-16,  1.77635684e-15,  1.77635684e-15,\n",
       "          0.00000000e+00],\n",
       "        [ 0.00000000e+00,  0.00000000e+00,  0.00000000e+00,\n",
       "          1.11022302e-16],\n",
       "        [-2.22044605e-16, -2.66453526e-15,  1.77635684e-15,\n",
       "          0.00000000e+00]])"
      ]
     },
     "execution_count": 17,
     "metadata": {},
     "output_type": "execute_result"
    }
   ],
   "source": [
    "# 计算误差\n",
    "myEye = randomMat * invRandMat\n",
    "# eye(4) 形成4 * 4的单位矩阵\n",
    "myEye - eye(4)"
   ]
  },
  {
   "cell_type": "code",
   "execution_count": null,
   "metadata": {
    "collapsed": true
   },
   "outputs": [],
   "source": []
  }
 ],
 "metadata": {
  "kernelspec": {
   "display_name": "Python 3",
   "language": "python",
   "name": "python3"
  },
  "language_info": {
   "codemirror_mode": {
    "name": "ipython",
    "version": 3
   },
   "file_extension": ".py",
   "mimetype": "text/x-python",
   "name": "python",
   "nbconvert_exporter": "python",
   "pygments_lexer": "ipython3",
   "version": "3.6.3"
  }
 },
 "nbformat": 4,
 "nbformat_minor": 2
}
